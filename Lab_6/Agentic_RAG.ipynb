{
 "cells": [
  {
   "cell_type": "markdown",
   "id": "047dfaa4",
   "metadata": {},
   "source": [
    "## Agentic RAG\n",
    "\n",
    "## What is Agentic RAG?\n",
    "\n",
    "Agentic RAG is an advanced AI architecture that combines the reasoning capabilities of AI Agents with the data-grounding of Retrieval-Augmented Generation (RAG).\n",
    "\n",
    "In short, instead of just passively retrieving information and answering, an Agentic RAG system actively reasons, plans, and decides the best way to answer a query.It can dynamically choose which tools to use, what to search for, and even refine its search multiple times to get the best possible answer.\n",
    "\n",
    "## The Key Difference: A Simple Analogy\n",
    "To understand the difference, think of a research assistant:\n",
    "Standard RAG is like a junior assistant. You give it a fixed task: \"1. Go to the library's vector database. 2. Pull the top 5 most relevant documents. 3. Give them to the writer (the LLM) to summarize.\" It's a fixed, linear pipeline: Retrieve $\\rightarrow$ Augment $\\rightarrow$ Generate.\n",
    "\n",
    "Agentic RAG is like a senior researcher. You give it a complex question. The researcher (the agent) first thinks:\"Is this question simple or complex?\"\"Do I need external information, or is it in my memory?\"\"Which tool is best? The vector database? A web search? A SQL database?\"It then creates a plan, executes it (e.g., searches the web), looks at the results, and thinks again:4\"Is this information good enough?\"\"No, the first result is outdated. I will refine my query to search for more recent news.\"Only after it's satisfied with the gathered evidence does it generate the final answer. This is a dynamic, reasoning loop: Reason $\\rightarrow$ Act $\\rightarrow$ Observe $\\rightarrow$ Reason ...\n",
    "\n",
    "## Key Capabilities of an Agentic RAG System\n",
    "What makes an Agentic RAG system \"agentic\" is its ability to perform these actions:\n",
    "\n",
    "- Query Analysis and Planning: The agent first analyzes the user's query. It can break down a complex, multi-part question (e.g., \"Compare the Q4 earnings of Company A and Company B\") into a series of smaller, executable sub-tasks.\n",
    "\n",
    "- Dynamic Tool Use (Routing): A standard RAG pipeline is usually connected to one tool (e.g., a single vector store). An agent can be given a toolbox and can decide which tool to use.\n",
    "\n",
    "- This toolbox might include:A vector database for internal documentsA web search engine for real-time informationA SQL database for structured dataA calculator or code interpreter for computations8The agent acts as a \"router,\" picking the right tool for the job.\n",
    "\n",
    "- Iterative Retrieval (Self-Correction): This is a major advantage. An agent can retrieve information, inspect it for relevance, and if the information is poor or insufficient, it can autonomously decide to try again.It might reformulate the query, use a different tool, or search for clarifying information. This iterative loop is often called Corrective RAG (C-RAG) or Self-Reflective RAG (Self-RAG), which are specific types of agentic systems"
   ]
  },
  {
   "cell_type": "code",
   "execution_count": 2,
   "id": "6d2d1aab",
   "metadata": {},
   "outputs": [],
   "source": [
    "from typing import Annotated, Literal, Sequence, TypedDict\n",
    "from langchain import hub\n",
    "from langchain_core.messages import BaseMessage, HumanMessage\n",
    "from langchain_core.output_parsers import StrOutputParser\n",
    "from langchain_core.prompts import PromptTemplate\n",
    "from langchain_core.pydantic_v1 import BaseModel, Field\n",
    "from langgraph.graph.message import add_messages\n",
    "from langgraph.prebuilt import tools_condition\n",
    "from langchain_community.document_loaders import WebBaseLoader\n",
    "from langchain_community.vectorstores import Chroma\n",
    "from langchain_text_splitters import RecursiveCharacterTextSplitter\n",
    "from langchain.tools.retriever import create_retriever_tool\n",
    "from langgraph.graph import END, StateGraph, START\n",
    "from langgraph.prebuilt import ToolNode\n",
    "from langchain_groq import ChatGroq"
   ]
  },
  {
   "cell_type": "code",
   "execution_count": 4,
   "id": "a39669ee",
   "metadata": {},
   "outputs": [],
   "source": [
    "import os\n",
    "from dotenv import load_dotenv\n",
    "load_dotenv()\n",
    "GOOGLE_API_KEY=os.getenv(\"GOOGLE_API_KEY\")\n",
    "TAVILY_API_KEY=os.getenv(\"TAVILY_API_KEY\")\n",
    "GROQ_API_KEY=os.getenv(\"GROQ_API_KEY\")\n",
    "LANGCHAIN_API_KEY=os.getenv(\"LANGCHAIN_API_KEY\")\n",
    "os.environ[\"GOOGLE_API_KEY\"] = os.getenv(\"GOOGLE_API_KEY\")\n",
    "os.environ[\"TAVILY_API_KEY\"] = os.getenv(\"TAVILY_API_KEY\")\n",
    "os.environ[\"GROQ_API_KEY\"]= os.getenv(\"GROQ_API_KEY\")\n",
    "os.environ[\"LANGCHAIN_API_KEY\"] = os.getenv(\"LANGCHAIN_API_KEY\")\n",
    "os.environ[\"LANGCHAIN_TRACING_V2\"] = \"true\"\n",
    "os.environ[\"LANGCHAIN_ENDPOINT\"] = \"https://api.smith.langchain.com\""
   ]
  },
  {
   "cell_type": "code",
   "execution_count": 7,
   "id": "a49cea26",
   "metadata": {},
   "outputs": [],
   "source": [
    "from langchain_openai import OpenAIEmbeddings\n",
    "from langchain_groq import ChatGroq\n",
    "\n",
    "embeddings=OpenAIEmbeddings()\n",
    "llm=ChatGroq(model_name=\"qwen/qwen3-32b\")"
   ]
  },
  {
   "cell_type": "code",
   "execution_count": 8,
   "id": "38e3fe7a",
   "metadata": {},
   "outputs": [],
   "source": [
    "urls = [\n",
    "    \"https://lilianweng.github.io/posts/2023-06-23-agent/\",\n",
    "    \"https://lilianweng.github.io/posts/2023-03-15-prompt-engineering/\",\n",
    "]\n",
    "docs = [WebBaseLoader(url).load() for url in urls]\n",
    "docs_list=[item for sublist in docs for item in sublist]\n",
    "text_splitter=RecursiveCharacterTextSplitter.from_tiktoken_encoder(chunk_size=100, chunk_overlap=25)"
   ]
  },
  {
   "cell_type": "code",
   "execution_count": 9,
   "id": "83d768fb",
   "metadata": {},
   "outputs": [],
   "source": [
    "doc_splits=text_splitter.split_documents(docs_list)"
   ]
  },
  {
   "cell_type": "code",
   "execution_count": 10,
   "id": "b6143fd4",
   "metadata": {},
   "outputs": [],
   "source": [
    "vectorstore=Chroma.from_documents(\n",
    "    documents=doc_splits,\n",
    "    collection_name=\"rag-chrome\",\n",
    "    embedding=embeddings\n",
    "    \n",
    ")"
   ]
  },
  {
   "cell_type": "code",
   "execution_count": 11,
   "id": "3ffba53d",
   "metadata": {},
   "outputs": [],
   "source": [
    "retriever=vectorstore.as_retriever()"
   ]
  },
  {
   "cell_type": "code",
   "execution_count": 12,
   "id": "fe222612",
   "metadata": {},
   "outputs": [
    {
     "data": {
      "text/plain": [
       "VectorStoreRetriever(tags=['Chroma', 'OpenAIEmbeddings'], vectorstore=<langchain_community.vectorstores.chroma.Chroma object at 0x000002A63E3D8440>, search_kwargs={})"
      ]
     },
     "execution_count": 12,
     "metadata": {},
     "output_type": "execute_result"
    }
   ],
   "source": [
    "retriever"
   ]
  },
  {
   "cell_type": "code",
   "execution_count": 13,
   "id": "6ecf2846",
   "metadata": {},
   "outputs": [],
   "source": [
    "retriever_tool=create_retriever_tool(\n",
    "    retriever,\n",
    "    \"retrieve_blog_posts\",\n",
    "    \"Search and return information about Lilian Weng blog posts on LLM agents, prompt engineering, and adversarial attacks on LLMs.You are a specialized assistant. Use the 'retriever_tool' **only** when the query explicitly relates to LangChain blog data. For all other queries, respond directly without using any tool. For simple queries like 'hi', 'hello', or 'how are you', provide a normal response.\",\n",
    "    )"
   ]
  },
  {
   "cell_type": "code",
   "execution_count": 14,
   "id": "bd91e9e1",
   "metadata": {},
   "outputs": [],
   "source": [
    "tools=[retriever_tool]\n",
    "retrieve=ToolNode([retriever_tool])"
   ]
  },
  {
   "cell_type": "markdown",
   "id": "99057690",
   "metadata": {},
   "source": [
    "Certainly! Let's break down the code:\n",
    "\n",
    "### **Code Breakdown:**\n",
    "\n",
    "```python\n",
    "class AgentState(TypedDict):\n",
    "    messages: Annotated[Sequence[BaseMessage], add_messages]\n",
    "```\n",
    "\n",
    "This code defines a class `AgentState` that is a **`TypedDict`**, which is a special kind of dictionary with fixed keys and value types, used to provide better type safety and autocompletion in Python.\n",
    "\n",
    "Here’s a breakdown of each part:\n",
    "\n",
    "---\n",
    "\n",
    "### **1. `AgentState(TypedDict)`**\n",
    "- **`TypedDict`**: This is a special class provided by `typing` that allows you to define dictionaries where each key has a fixed type. The dictionary keys are usually predefined, and each key must have a specified type.\n",
    "\n",
    "  - `AgentState` here is a subclass of `TypedDict`, meaning `AgentState` will represent a dictionary where the types of its values are enforced.\n",
    "\n",
    "  - Example:\n",
    "    ```python\n",
    "    agent_state = AgentState(messages=[\"Message 1\", \"Message 2\"])  # This would be valid.\n",
    "    ```\n",
    "\n",
    "---\n",
    "\n",
    "### **2. `messages: Annotated[Sequence[BaseMessage], add_messages]`**\n",
    "- **`messages`**: This is a key in the `AgentState` dictionary. It holds a sequence (like a list or tuple) of `BaseMessage` objects.\n",
    "  \n",
    "- **`Annotated[...]`**: `Annotated` is used to attach additional metadata or annotations to the type. It’s a way to add extra information to the type system without affecting the actual type. In this case, it provides metadata for the `messages` field. \n",
    "\n",
    "  - The **`Annotated`** wrapper allows you to define a type and also include additional information that might be used by tools like static analyzers or for other purposes like validation.\n",
    "\n",
    "- **`Sequence[BaseMessage]`**: This indicates that `messages` should be a sequence (e.g., a list or tuple) of `BaseMessage` objects.\n",
    "\n",
    "  - **`BaseMessage`** is likely a class that represents a message in the context of your program. It could have fields like `content`, `sender`, `timestamp`, etc.\n",
    "  \n",
    "- **`add_messages`**: This is a special annotation (or metadata) that likely refers to some function or constant that’s being added as additional context. The specific role of `add_messages` will depend on how it's defined elsewhere in the codebase.\n",
    "\n",
    "  - **`add_messages`** could be a function, validator, or modifier that helps manage or process the messages in some way, but it's not directly modifying the type of `messages`. It's simply metadata for the type checker or other parts of the system.\n",
    "\n",
    "  - For example, if `add_messages` were a function, it could be used in a custom decorator, validation system, or simply as an indication of how to handle messages.\n",
    "\n",
    "---\n",
    "\n",
    "### **Putting It All Together:**\n",
    "\n",
    "- **`AgentState`** is a dictionary where one of the keys, `messages`, is specifically typed to be a **sequence of `BaseMessage`** objects. The sequence is annotated with **`add_messages`**, which provides additional metadata but doesn’t affect the type directly.\n",
    "  \n",
    "- **Example of `AgentState` usage:**\n",
    "\n",
    "```python\n",
    "from typing import TypedDict, Sequence\n",
    "from typing_extensions import Annotated\n",
    "\n",
    "class BaseMessage:\n",
    "    def __init__(self, content: str):\n",
    "        self.content = content\n",
    "\n",
    "# Defining the `AgentState` TypedDict\n",
    "class AgentState(TypedDict):\n",
    "    messages: Annotated[Sequence[BaseMessage], \"add_messages\"]\n",
    "\n",
    "# Example usage\n",
    "message1 = BaseMessage(\"Hello, world!\")\n",
    "message2 = BaseMessage(\"How are you?\")\n",
    "state = AgentState(messages=[message1, message2])\n",
    "\n",
    "print(state)\n",
    "```\n",
    "\n",
    "In the above code:\n",
    "- `AgentState` is a dictionary with a `messages` field that is a sequence of `BaseMessage` objects.\n",
    "- `add_messages` is metadata associated with the `messages` field, which can help guide the usage or interpretation of the data.\n",
    "\n",
    "---\n",
    "\n",
    "### **Summary:**\n",
    "- `AgentState` is a dictionary where the `messages` key holds a sequence of `BaseMessage` objects.\n",
    "- `Annotated[Sequence[BaseMessage], add_messages]` means that `messages` is a sequence of `BaseMessage` objects with additional metadata (`add_messages`).\n",
    "- The annotation `add_messages` provides extra context or metadata that doesn't alter the type directly but can be used for purposes like validation or other system-specific behavior.\n"
   ]
  },
  {
   "cell_type": "code",
   "execution_count": 15,
   "id": "d8e0c5ba",
   "metadata": {},
   "outputs": [],
   "source": [
    "class AgentState(TypedDict):\n",
    "    messages: Annotated[Sequence[BaseMessage], add_messages]"
   ]
  },
  {
   "cell_type": "code",
   "execution_count": 16,
   "id": "fb5bb836",
   "metadata": {},
   "outputs": [],
   "source": [
    "def ai_assistant(state:AgentState):\n",
    "    print(\"---CALL AGENT---\")\n",
    "    messages = state['messages']\n",
    "    \n",
    "    if len(messages)>1:\n",
    "        last_message = messages[-1]\n",
    "        question = last_message.content\n",
    "        prompt=PromptTemplate(\n",
    "        template=\"\"\"You are a helpful assistant whatever question has been asked to find out that in the given question and answer.\n",
    "                        Here is the question:{question}\n",
    "                        \"\"\",\n",
    "                        input_variables=[\"question\"]\n",
    "                        )\n",
    "            \n",
    "        chain = prompt | llm\n",
    "    \n",
    "        response=chain.invoke({\"question\": question})\n",
    "        return {\"messages\": [response]}\n",
    "    else:\n",
    "        llm_with_tool = llm.bind_tools(tools)\n",
    "        response = llm_with_tool.invoke(messages)\n",
    "        #response=handle_query(messages)\n",
    "        return {\"messages\": [response]}"
   ]
  },
  {
   "cell_type": "code",
   "execution_count": 17,
   "id": "7b6ee087",
   "metadata": {},
   "outputs": [],
   "source": [
    "class grade(BaseModel):\n",
    "    binary_score:str=Field(description=\"Relevance score 'yes' or 'no'\")"
   ]
  },
  {
   "cell_type": "code",
   "execution_count": 18,
   "id": "4acc5d57",
   "metadata": {},
   "outputs": [],
   "source": [
    "def grade_documents(state:AgentState)->Literal[\"Output_Generator\", \"Query_Rewriter\"]:\n",
    "    llm_with_structure_op=llm.with_structured_output(grade)\n",
    "    \n",
    "    prompt=PromptTemplate(\n",
    "        template=\"\"\"You are a grader deciding if a document is relevant to a user’s question.\n",
    "                    Here is the document: {context}\n",
    "                    Here is the user’s question: {question}\n",
    "                    If the document talks about or contains information related to the user’s question, mark it as relevant. \n",
    "                    Give a 'yes' or 'no' answer to show if the document is relevant to the question.\"\"\",\n",
    "                    input_variables=[\"context\", \"question\"]\n",
    "                    )\n",
    "    chain = prompt | llm_with_structure_op\n",
    "    \n",
    "    messages = state[\"messages\"]\n",
    "    last_message = messages[-1]\n",
    "    question = messages[0].content\n",
    "    docs = last_message.content\n",
    "    scored_result = chain.invoke({\"question\": question, \"context\": docs})\n",
    "    score = scored_result.binary_score\n",
    "\n",
    "    if score == \"yes\":\n",
    "        print(\"---DECISION: DOCS RELEVANT---\")\n",
    "        return \"generator\" #this should be a node name\n",
    "    else:\n",
    "        print(\"---DECISION: DOCS NOT RELEVANT---\")\n",
    "        return \"rewriter\" #this should be a node name"
   ]
  },
  {
   "cell_type": "code",
   "execution_count": 19,
   "id": "66873fb6",
   "metadata": {},
   "outputs": [
    {
     "name": "stdout",
     "output_type": "stream",
     "text": [
      "================================\u001b[1m Human Message \u001b[0m=================================\n",
      "\n",
      "You are an assistant for question-answering tasks. Use the following pieces of retrieved context to answer the question. If you don't know the answer, just say that you don't know. Use three sentences maximum and keep the answer concise.\n",
      "Question: \u001b[33;1m\u001b[1;3m{question}\u001b[0m \n",
      "Context: \u001b[33;1m\u001b[1;3m{context}\u001b[0m \n",
      "Answer:\n"
     ]
    }
   ],
   "source": [
    "hub.pull(\"rlm/rag-prompt\").pretty_print()"
   ]
  },
  {
   "cell_type": "code",
   "execution_count": 20,
   "id": "bb88edfd",
   "metadata": {},
   "outputs": [],
   "source": [
    "def generate(state:AgentState):\n",
    "    print(\"---GENERATE---\")\n",
    "    messages = state[\"messages\"]\n",
    "\n",
    "    question = messages[0].content\n",
    "    \n",
    "    last_message = messages[-1]\n",
    "    docs = last_message.content\n",
    "    \n",
    "    prompt = hub.pull(\"rlm/rag-prompt\")\n",
    "    \n",
    "    rag_chain = prompt | llm\n",
    "\n",
    "    response = rag_chain.invoke({\"context\": docs, \"question\": question})\n",
    "    print(f\"this is my response:{response}\")\n",
    "    \n",
    "    return {\"messages\": [response]}"
   ]
  },
  {
   "cell_type": "code",
   "execution_count": 21,
   "id": "7141d563",
   "metadata": {},
   "outputs": [],
   "source": [
    "from langchain_core.messages import  HumanMessage\n",
    "def rewrite(state:AgentState):\n",
    "    print(\"---TRANSFORM QUERY---\")\n",
    "    messages = state[\"messages\"]\n",
    "    question = messages[0].content\n",
    "    \n",
    "    message = [HumanMessage(content=f\"\"\"Look at the input and try to reason about the underlying semantic intent or meaning. \n",
    "                    Here is the initial question: {question} \n",
    "                    Formulate an improved question: \"\"\")\n",
    "       ]\n",
    "    response = llm.invoke(message)\n",
    "    return {\"messages\": [response]}"
   ]
  },
  {
   "cell_type": "code",
   "execution_count": 22,
   "id": "90fea8ed",
   "metadata": {},
   "outputs": [
    {
     "data": {
      "text/plain": [
       "<langgraph.graph.state.StateGraph at 0x2a640ad6f90>"
      ]
     },
     "execution_count": 22,
     "metadata": {},
     "output_type": "execute_result"
    }
   ],
   "source": [
    "workflow=StateGraph(AgentState)\n",
    "workflow.add_node(\"My_Ai_Assistant\",ai_assistant)\n",
    "workflow.add_node(\"Vector_Retriever\", retrieve) \n",
    "workflow.add_node(\"Output_Generator\", generate)\n",
    "workflow.add_node(\"Query_Rewriter\", rewrite) "
   ]
  },
  {
   "cell_type": "code",
   "execution_count": 24,
   "id": "aeaebdf1",
   "metadata": {},
   "outputs": [
    {
     "data": {
      "text/plain": [
       "<langgraph.graph.state.StateGraph at 0x2a640ad6f90>"
      ]
     },
     "execution_count": 24,
     "metadata": {},
     "output_type": "execute_result"
    }
   ],
   "source": [
    "workflow.add_edge(START,\"My_Ai_Assistant\")\n",
    "workflow.add_conditional_edges(\"My_Ai_Assistant\",\n",
    "                            tools_condition,\n",
    "                            {\"tools\": \"Vector_Retriever\",\n",
    "                                END: END,})"
   ]
  },
  {
   "cell_type": "code",
   "execution_count": 25,
   "id": "d1580c87",
   "metadata": {},
   "outputs": [
    {
     "data": {
      "text/plain": [
       "<langgraph.graph.state.StateGraph at 0x2a640ad6f90>"
      ]
     },
     "execution_count": 25,
     "metadata": {},
     "output_type": "execute_result"
    }
   ],
   "source": [
    "workflow.add_conditional_edges(\"Vector_Retriever\",\n",
    "                            grade_documents,\n",
    "                            {\"generator\": \"Output_Generator\",\n",
    "                            \"rewriter\": \"Query_Rewriter\"\n",
    "                            }\n",
    "                            )"
   ]
  },
  {
   "cell_type": "code",
   "execution_count": 26,
   "id": "82a7e864",
   "metadata": {},
   "outputs": [],
   "source": [
    "workflow.add_edge(\"Output_Generator\", END)\n",
    "workflow.add_edge(\"Query_Rewriter\", \"My_Ai_Assistant\")\n",
    "app=workflow.compile()"
   ]
  },
  {
   "cell_type": "code",
   "execution_count": 27,
   "id": "b3d81cd4",
   "metadata": {},
   "outputs": [
    {
     "data": {
      "image/png": "[encoded data removed]",
      "text/plain": [
       "<IPython.core.display.Image object>"
      ]
     },
     "metadata": {},
     "output_type": "display_data"
    }
   ],
   "source": [
    "from IPython.display import Image, display\n",
    "\n",
    "try:\n",
    "    display(Image(app.get_graph(xray=True).draw_mermaid_png()))\n",
    "except Exception:\n",
    "    # This requires some extra dependencies and is optional\n",
    "    pass"
   ]
  },
  {
   "cell_type": "code",
   "execution_count": 28,
   "id": "e5070e63",
   "metadata": {},
   "outputs": [
    {
     "name": "stdout",
     "output_type": "stream",
     "text": [
      "---CALL AGENT---\n"
     ]
    },
    {
     "data": {
      "text/plain": [
       "{'messages': [HumanMessage(content='What is a Autonomous Agent?', additional_kwargs={}, response_metadata={}, id='5ba51bf9-5c2d-4065-9c91-bfa675fe1b2c'),\n",
       "  AIMessage(content='An autonomous agent is an entity in artificial intelligence (AI) that can operate independently, making decisions and taking actions based on its environment and goals without direct human intervention. These agents use sensors to perceive their surroundings, process information through algorithms or models (e.g., machine learning), and execute actions to achieve specific objectives. Examples include self-driving cars, chatbots, and robotic systems. They are designed to adapt dynamically to changing conditions and learn from experience over time.', additional_kwargs={'reasoning_content': 'Okay, the user is asking, \"What is an Autonomous Agent?\" Let me think about how to approach this.\\n\\nFirst, I need to check if the user\\'s query relates to the LangChain blog data. The question is general and doesn\\'t mention anything specific about Lilian Weng\\'s blog posts or the topics she covers like LLM agents, prompt engineering, or adversarial attacks. The function retrieve_blog_posts is meant for when the query is explicitly about those areas. Since this is a basic definition request, I don\\'t need to use the tool here.\\n\\nAn autonomous agent is a concept in artificial intelligence that refers to an entity capable of operating independently. These agents can perceive their environment, make decisions, and take actions to achieve their goals. They don\\'t require human intervention once they\\'re set up. Examples include chatbots, robotic systems, and automated trading systems. I should explain this in simple terms, maybe give an example or two to clarify. Since the user didn\\'t ask for anything related to the specific blog posts the tool is for, there\\'s no need to call any function. Just provide a straightforward answer.\\n'}, response_metadata={'token_usage': {'completion_tokens': 323, 'prompt_tokens': 285, 'total_tokens': 608, 'completion_time': 0.760317737, 'prompt_time': 0.011492508, 'queue_time': 0.246177561, 'total_time': 0.771810245}, 'model_name': 'qwen/qwen3-32b', 'system_fingerprint': 'fp_efa9879028', 'service_tier': 'on_demand', 'finish_reason': 'stop', 'logprobs': None}, id='run--13430e1c-c175-46b0-8f90-de5f499ede05-0', usage_metadata={'input_tokens': 285, 'output_tokens': 323, 'total_tokens': 608})]}"
      ]
     },
     "execution_count": 28,
     "metadata": {},
     "output_type": "execute_result"
    }
   ],
   "source": [
    "app.invoke({\"messages\":[\"What is a Autonomous Agent?\"]})"
   ]
  },
  {
   "cell_type": "code",
   "execution_count": null,
   "id": "9c4f6278",
   "metadata": {},
   "outputs": [],
   "source": []
  }
 ],
 "metadata": {
  "kernelspec": {
   "display_name": ".venv",
   "language": "python",
   "name": "python3"
  },
  "language_info": {
   "codemirror_mode": {
    "name": "ipython",
    "version": 3
   },
   "file_extension": ".py",
   "mimetype": "text/x-python",
   "name": "python",
   "nbconvert_exporter": "python",
   "pygments_lexer": "ipython3",
   "version": "3.13.3"
  }
 },
 "nbformat": 4,
 "nbformat_minor": 5
}
