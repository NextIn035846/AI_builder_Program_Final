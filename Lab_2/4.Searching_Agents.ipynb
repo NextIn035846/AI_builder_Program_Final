{
 "cells": [
  {
   "cell_type": "markdown",
   "id": "0d2fd0e2",
   "metadata": {},
   "source": [
    "## Searching Agents"
   ]
  },
  {
   "cell_type": "code",
   "execution_count": 9,
   "id": "36fe0552",
   "metadata": {},
   "outputs": [],
   "source": [
    "import os\n",
    "from dotenv import load_dotenv\n",
    "from langchain import hub\n",
    "from langchain.agents import AgentExecutor\n",
    "from langchain.agents.react.agent import create_react_agent\n",
    "from langchain_groq import ChatGroq\n",
    "from langchain_tavily import TavilySearch\n",
    "load_dotenv()\n",
    "os.environ[\"GROQ_API_KEY\"] = os.getenv(\"GROQ_API_KEY\")\n",
    "os.environ[\"TAVILY_API_KEY\"] = os.getenv(\"TAVILY_API_KEY\")\n",
    "tools =[TavilySearch()]\n"
   ]
  },
  {
   "cell_type": "code",
   "execution_count": 17,
   "id": "df90f19e",
   "metadata": {},
   "outputs": [],
   "source": [
    "tools =[TavilySearch()]\n",
    "llm = ChatGroq(model=\"qwen/qwen3-32b\")\n",
    "react_prompt = hub.pull(\"hwchase17/react\") "
   ]
  },
  {
   "cell_type": "code",
   "execution_count": 18,
   "id": "bf4d6b20",
   "metadata": {},
   "outputs": [
    {
     "name": "stdout",
     "output_type": "stream",
     "text": [
      "Answer the following questions as best you can. You have access to the following tools:\n",
      "\n",
      "{tools}\n",
      "\n",
      "Use the following format:\n",
      "\n",
      "Question: the input question you must answer\n",
      "Thought: you should always think about what to do\n",
      "Action: the action to take, should be one of [{tool_names}]\n",
      "Action Input: the input to the action\n",
      "Observation: the result of the action\n",
      "... (this Thought/Action/Action Input/Observation can repeat N times)\n",
      "Thought: I now know the final answer\n",
      "Final Answer: the final answer to the original input question\n",
      "\n",
      "Begin!\n",
      "\n",
      "Question: {input}\n",
      "Thought:{agent_scratchpad}\n"
     ]
    }
   ],
   "source": [
    "print(react_prompt.template)"
   ]
  },
  {
   "cell_type": "code",
   "execution_count": 18,
   "id": "ce952a98",
   "metadata": {},
   "outputs": [],
   "source": [
    "from typing import List\n",
    "from pydantic import BaseModel,Field\n",
    "\n",
    "class JobPosting(BaseModel):\n",
    "    \"Schema for a source used by the Agent\"\n",
    "    url:str =Field(description=\"The URL of source\")\n",
    "\n",
    "class AgentResponse(BaseModel):\n",
    "    \"\"\"Schema for agent response with answer and sources\"\"\"\n",
    "    answer: str = Field(description=\"The answer provided by the agent\")\n",
    "    sources: List[JobPosting] = Field(default_factory=list,description=\"The sources used by the agent to generate the answer\")\n"
   ]
  },
  {
   "cell_type": "code",
   "execution_count": 19,
   "id": "d1c0c261",
   "metadata": {},
   "outputs": [],
   "source": [
    "\n",
    "REACT_PROMPT_WITH_FORMAT_INSTRUCTIONS = \"\"\"\n",
    "Answer the following questions as best you can. You have access to the following tools:\n",
    "\n",
    "{tools}\n",
    "\n",
    "Use the following format:\n",
    "\n",
    "Question: the input question you must answer\n",
    "Thought: you should always think about what to do\n",
    "Action: the action to take, should be one of [{tool_names}]\n",
    "Action Input: the input to the action\n",
    "Observation: the result of the action\n",
    "... (this Thought/Action/Action Input/Observation can repeat N times)\n",
    "Thought: I now know the final answer\n",
    "Final Answer: the final answer to the original input question formatted according to format_instructions: {format_instructions}\n",
    "\n",
    "Begin!\n",
    "\n",
    "Question: {input}\n",
    "Thought:{agent_scratchpad}\n",
    "\"\"\""
   ]
  },
  {
   "cell_type": "code",
   "execution_count": 20,
   "id": "2417d70f",
   "metadata": {},
   "outputs": [],
   "source": [
    "from langchain_core.output_parsers.pydantic import PydanticOutputParser\n",
    "from langchain_core.runnables import RunnableLambda\n",
    "from langchain_core.prompts import PromptTemplate"
   ]
  },
  {
   "cell_type": "code",
   "execution_count": 21,
   "id": "fa7fdeca",
   "metadata": {},
   "outputs": [],
   "source": [
    "tools =[TavilySearch()]\n",
    "llm = ChatGroq(model=\"qwen/qwen3-32b\")\n",
    "output_parser = PydanticOutputParser(pydantic_object=AgentResponse)\n",
    "react_prompt_with_format_instructions = PromptTemplate(\n",
    "    template=REACT_PROMPT_WITH_FORMAT_INSTRUCTIONS,\n",
    "    input_variables=[\"input\", \"agent_scratchpad\", \"tool_names\"],\n",
    ").partial(format_instructions=output_parser.get_format_instructions())\n"
   ]
  },
  {
   "cell_type": "code",
   "execution_count": 22,
   "id": "c083f5a7",
   "metadata": {},
   "outputs": [],
   "source": [
    "agent = create_react_agent(llm=llm, tools=tools, prompt=react_prompt_with_format_instructions)"
   ]
  },
  {
   "cell_type": "code",
   "execution_count": 23,
   "id": "49b5fe2f",
   "metadata": {},
   "outputs": [],
   "source": [
    "agent_executor = AgentExecutor(agent=agent, tools=tools,verbose=True)\n",
    "extract_output = RunnableLambda(lambda x: x[\"output\"])\n",
    "parse_output = RunnableLambda(lambda x: output_parser.parse(x))\n",
    "\n",
    "chain = agent_executor | extract_output | parse_output"
   ]
  },
  {
   "cell_type": "code",
   "execution_count": 25,
   "id": "96638a22",
   "metadata": {},
   "outputs": [
    {
     "name": "stdout",
     "output_type": "stream",
     "text": [
      "\n",
      "\n",
      "\u001b[1m> Entering new AgentExecutor chain...\u001b[0m\n",
      "\u001b[32;1m\u001b[1;3m<think>\n",
      "Okay, the user wants me to find three job postings for an AI engineer using LangChain in the Bay Area on LinkedIn. Let me start by figuring out the best way to approach this.\n",
      "\n",
      "First, I need to use the tavily_search tool since it's optimized for comprehensive and accurate results, including LinkedIn job postings. The user specified the location as the Bay Area and the role as AI Engineer with LangChain experience. \n",
      "\n",
      "I should construct a search query that includes these keywords. Maybe something like \"AI Engineer LangChain job postings LinkedIn Bay Area\". Adding \"site:linkedin.com\" might help narrow down the search to LinkedIn specifically. Let me try that.\n",
      "\n",
      "After performing the search, I'll need to look through the results to find the job postings. The search results should return URLs and snippets. I need to check if the URLs are actual job postings on LinkedIn. Each posting's URL should have a specific structure, like linkedin.com/jobs/... or linkedin.com/company/.../jobs/...\n",
      "\n",
      "Once I find three valid postings, I'll extract the URLs. Then, I'll need to ensure that the job titles and descriptions mention both AI Engineer and LangChain. The snippets might not have all the details, so I might need to check each URL to confirm, but since I can't visit the links directly, I'll rely on the snippets provided by the search tool.\n",
      "\n",
      "If the initial search doesn't yield enough results, I might need to adjust the query. Perhaps removing \"Bay Area\" to see if that broadens the results enough, but I should prioritize the Bay Area. Alternatively, using \"LangChain\" in the query might be too specific, so maybe using \"LangChain OR Lang Chain\" if there are different ways the term is written.\n",
      "\n",
      "Let me perform the first search with the initial query and see the results. If I get three valid postings, I can proceed. If not, I'll need to refine the search terms based on the observation.\n",
      "</think>\n",
      "\n",
      "Thought: I need to search for job postings for AI Engineers using LangChain in the Bay Area on LinkedIn. I'll use the tavily_search tool to find relevant job postings by specifying the location and required skills.\n",
      "\n",
      "Action: tavily_search  \n",
      "Action Input: \"AI Engineer LangChain job postings\" site:linkedin.com/jobs Bay Area\n",
      "\u001b[0m\u001b[36;1m\u001b[1;3m{'query': 'AI Engineer LangChain job postings\" Bay Area', 'follow_up_questions': None, 'answer': None, 'images': [], 'results': [{'url': 'https://www.simplyhired.com/search?q=langchain&l=san+francisco%2C+ca', 'title': '20 Best langchain jobs in san francisco, ca (Hiring Now!) | SimplyHired', 'content': 'Machine Learning Engineer. Level AI —San Francisco Bay Area, CA. Assist in building LLM-powered agents for internal tools and customer-facing products. Help', 'score': 0.7604555, 'raw_content': None}, {'url': 'https://www.ziprecruiter.com/Jobs/Langchain/-in-San-Francisco,CA', 'title': 'Langchain Jobs in San Francisco, CA (NOW HIRING) Oct 2025', 'content': 'Professionals skilled in Langchain technology can pursue roles such as AI developer, machine learning engineer, and natural language processing specialist.', 'score': 0.7152057, 'raw_content': None}, {'url': 'https://www.indeed.com/q-langchain-l-santa-clara,-ca-jobs.html', 'title': 'Langchain Jobs, Employment in Santa Clara, CA | Indeed', 'content': '137 Langchain jobs available in Santa Clara, CA on Indeed.com. Apply to Ai Developer, Software Engineer, Senior Ai/ml Engineer and more!', 'score': 0.7152057, 'raw_content': None}, {'url': 'https://www.lhh.com/en-us/search-jobs/sr-ai-engineer-memory-context-san-francisco-california/us_en_27_842876_3101198', 'title': 'Sr. AI Engineer (Memory & Context) | San francisco, California - LHH', 'content': 'The position is mostly remote schedule but you must have a willingness and ability to travel to San Francisco for hybrid work as needed. * ~1+ years of hands-on experience as an AI Engineer using AI-centric tools or workflows * 1–2 years hands-on experience with AI-centric tools or workflows (e.g., LangChain, Crew AI) **Pay Details:** $150,000.00 to $215,000.00 per year**Search managed by:** Heather Allen Equal Opportunity Employer/Veterans/DisabledTo read our Candidate Privacy Information Statement, which explains how we will use your information, please navigate to https://www-uat.lhh.com/us/en/candidate-privacyThe Company will consider qualified applicants with arrest and conviction records in accordance with federal, state, and local laws and/or security clearance requirements, including, as applicable:', 'score': 0.69870013, 'raw_content': None}, {'url': 'https://www.ziprecruiter.com/co/langchain/Jobs/-in-San-Francisco,CA', 'title': 'LANGCHAIN Jobs in San Francisco, CA (Now Hiring) Sep 2025', 'content': 'LANGCHAIN Jobs in San Francisco, CA (Now Hiring) Sep 2025 *   Jobs Search Jobs *   Langchain Jobs 18 Langchain Jobs Hiring in San Francisco, CA Report Job Report Job Report Job Report Job Report Job Report Job Report Job Report Job Report Job Report Job Report Job Report Job Report Job Report Job Image 22: Infographic showing various job openings at Langchain in San Francisco, CA as of August 2025, with employment types broken down into 100% Full Time. 1.   All Jobs 2.   Langchain Jobs 3.   Jobs at Langchain in California 4.   Jobs at Langchain in San Francisco, CA **18+ Langchain jobs in the San Francisco, CA area** For **Langchain Jobs** in the San Francisco, CA area: *   Search Jobs', 'score': 0.6426349, 'raw_content': None}], 'response_time': 1.11, 'request_id': 'ceda15ce-319f-4a04-ae48-93358cbd39c8'}\u001b[0m\u001b[32;1m\u001b[1;3m<think>\n",
      "Okay, let me process what I found. The user wants three job postings for AI Engineers using LangChain in the Bay Area on LinkedIn. The initial search using tavily_search gave me some results, but I need to check if they're from LinkedIn.\n",
      "\n",
      "Looking at the first result: the URL is from simplyhired.com, not LinkedIn. The second is ziprecruiter.com, third is indeed.com, fourth is lhh.com, fifth is ziprecruiter again. None of these are LinkedIn links. Hmm, that's a problem. The user specifically asked for LinkedIn postings.\n",
      "\n",
      "Maybe my search query wasn't specific enough. I should adjust the query to ensure it targets LinkedIn. Let me try again with a modified query that includes \"site:linkedin.com\" to narrow it down. Also, maybe include \"LangChain\" in the job title or description.\n",
      "\n",
      "New search query: \"AI Engineer LangChain job postings site:linkedin.com Bay Area\". Let's see if this brings up LinkedIn URLs. If not, I might need to look for alternative methods or confirm if there are indeed postings on LinkedIn. If there are still no LinkedIn results, I could inform the user that the available tools didn't find LinkedIn postings and provide the closest matches from other platforms. But the user specifically mentioned LinkedIn, so I need to prioritize that.\n",
      "</think>\n",
      "\n",
      "Thought: The initial search did not return LinkedIn job postings. I need to refine the search to specifically target LinkedIn URLs. I'll adjust the query to include \"site:linkedin.com\" to ensure results are from LinkedIn.\n",
      "\n",
      "Action: tavily_search  \n",
      "Action Input: \"AI Engineer LangChain job postings\" site:linkedin.com/jobs Bay Area\n",
      "\u001b[0m\u001b[36;1m\u001b[1;3m{'query': 'AI Engineer LangChain job postings\" Bay Area', 'follow_up_questions': None, 'answer': None, 'images': [], 'results': [{'url': 'https://www.simplyhired.com/search?q=langchain&l=san+francisco%2C+ca', 'title': '20 Best langchain jobs in san francisco, ca (Hiring Now!) | SimplyHired', 'content': 'Machine Learning Engineer. Level AI —San Francisco Bay Area, CA. Assist in building LLM-powered agents for internal tools and customer-facing products. Help', 'score': 0.7604555, 'raw_content': None}, {'url': 'https://www.ziprecruiter.com/Jobs/Langchain/-in-San-Francisco,CA', 'title': 'Langchain Jobs in San Francisco, CA (NOW HIRING) Oct 2025', 'content': 'Professionals skilled in Langchain technology can pursue roles such as AI developer, machine learning engineer, and natural language processing specialist.', 'score': 0.7152057, 'raw_content': None}, {'url': 'https://www.indeed.com/q-langchain-l-santa-clara,-ca-jobs.html', 'title': 'Langchain Jobs, Employment in Santa Clara, CA | Indeed', 'content': '137 Langchain jobs available in Santa Clara, CA on Indeed.com. Apply to Ai Developer, Software Engineer, Senior Ai/ml Engineer and more!', 'score': 0.7152057, 'raw_content': None}, {'url': 'https://www.lhh.com/en-us/search-jobs/sr-ai-engineer-memory-context-san-francisco-california/us_en_27_842876_3101198', 'title': 'Sr. AI Engineer (Memory & Context) | San francisco, California - LHH', 'content': 'The position is mostly remote schedule but you must have a willingness and ability to travel to San Francisco for hybrid work as needed. * ~1+ years of hands-on experience as an AI Engineer using AI-centric tools or workflows * 1–2 years hands-on experience with AI-centric tools or workflows (e.g., LangChain, Crew AI) **Pay Details:** $150,000.00 to $215,000.00 per year**Search managed by:** Heather Allen Equal Opportunity Employer/Veterans/DisabledTo read our Candidate Privacy Information Statement, which explains how we will use your information, please navigate to https://www-uat.lhh.com/us/en/candidate-privacyThe Company will consider qualified applicants with arrest and conviction records in accordance with federal, state, and local laws and/or security clearance requirements, including, as applicable:', 'score': 0.69870013, 'raw_content': None}, {'url': 'https://www.ziprecruiter.com/co/langchain/Jobs/-in-San-Francisco,CA', 'title': 'LANGCHAIN Jobs in San Francisco, CA (Now Hiring) Sep 2025', 'content': 'LANGCHAIN Jobs in San Francisco, CA (Now Hiring) Sep 2025 *   Jobs Search Jobs *   Langchain Jobs 18 Langchain Jobs Hiring in San Francisco, CA Report Job Report Job Report Job Report Job Report Job Report Job Report Job Report Job Report Job Report Job Report Job Report Job Report Job Report Job Image 22: Infographic showing various job openings at Langchain in San Francisco, CA as of August 2025, with employment types broken down into 100% Full Time. 1.   All Jobs 2.   Langchain Jobs 3.   Jobs at Langchain in California 4.   Jobs at Langchain in San Francisco, CA **18+ Langchain jobs in the San Francisco, CA area** For **Langchain Jobs** in the San Francisco, CA area: *   Search Jobs', 'score': 0.6426349, 'raw_content': None}], 'response_time': 0.0, 'request_id': 'f7dcccbc-8d15-4a7e-8a66-bb2a8aac8e44'}\u001b[0m\u001b[32;1m\u001b[1;3m<think>\n",
      "Okay, so the user wants three job postings for an AI Engineer using LangChain in the Bay Area on LinkedIn. Let me see how I can approach this.\n",
      "\n",
      "First, I tried using the tavily_search tool with the query \"AI Engineer LangChain job postings site:linkedin.com Bay Area\". The results came back, but none of the URLs were from LinkedIn. They were from other job boards like SimplyHired, ZipRecruiter, Indeed, and LHH. The user specifically asked for LinkedIn postings, so this isn't meeting the requirement.\n",
      "\n",
      "Hmm, maybe the initial search parameters need adjusting. The user might not realize that direct LinkedIn job postings aren't easily accessible through standard search engines. LinkedIn requires being logged in, and job listings are often behind the platform's interface. Maybe the tool isn't scraping LinkedIn's job pages effectively because they're dynamic or require authentication.\n",
      "\n",
      "Since the tool isn't returning LinkedIn URLs, perhaps there are no public job postings that match exactly, or they're not indexed by search engines. Alternatively, maybe the keywords need tweaking. Let me think about alternative search terms. Maybe including \"careers\" or \"job\" in the query. Or using \"LangChain\" as a keyword more prominently.\n",
      "\n",
      "Wait, in the previous search, the highest score was from a non-LinkedIn site. Maybe the issue is that LinkedIn's job postings aren't being indexed, or the tool isn't accessing them. If I can't get LinkedIn links, I should inform the user that the available tools didn't find LinkedIn postings but provide the closest matches from other platforms. However, the user specifically asked for LinkedIn, so I need to check if there's another way.\n",
      "\n",
      "Alternatively, maybe the job titles on LinkedIn don't explicitly mention \"LangChain\", but the skills required do. So perhaps the search should be broader. Let me try a different query, maybe \"AI Engineer job postings site:linkedin.com Bay Area LangChain\" and see if that yields any results. If not, I might have to conclude that there are no current postings matching the criteria on LinkedIn and present the other options instead.\n",
      "</think>\n",
      "\n",
      "Thought: The search results still do not include LinkedIn job postings. While several job listings mention LangChain and AI engineering roles in the Bay Area, none are directly from LinkedIn. To comply with the user's request for LinkedIn-specific postings, I will refine the query further and check for any possible oversight.\n",
      "\n",
      "Action: tavily_search  \n",
      "Action Input: \"AI Engineer\" \"LangChain\" job postings site:linkedin.com/jobs Bay Area\n",
      "\u001b[0m\u001b[36;1m\u001b[1;3m{'query': 'AI Engineer\" \"LangChain\" job postings Bay Area', 'follow_up_questions': None, 'answer': None, 'images': [], 'results': [{'url': 'https://www.ziprecruiter.com/Jobs/Langchain/-in-San-Francisco,CA', 'title': 'Langchain Jobs in San Francisco, CA (NOW HIRING) Oct 2025', 'content': 'Professionals skilled in Langchain technology can pursue roles such as AI developer, machine learning engineer, and natural language processing specialist.', 'score': 0.7373288, 'raw_content': None}, {'url': 'https://www.lhh.com/en-us/search-jobs/sr-ai-engineer-memory-context-san-francisco-california/us_en_27_842876_3101198', 'title': 'Sr. AI Engineer (Memory & Context) | San francisco, California - LHH', 'content': 'The position is mostly remote schedule but you must have a willingness and ability to travel to San Francisco for hybrid work as needed. * ~1+ years of hands-on experience as an AI Engineer using AI-centric tools or workflows * 1–2 years hands-on experience with AI-centric tools or workflows (e.g., LangChain, Crew AI) **Pay Details:** $150,000.00 to $215,000.00 per year**Search managed by:** Heather Allen Equal Opportunity Employer/Veterans/DisabledTo read our Candidate Privacy Information Statement, which explains how we will use your information, please navigate to https://www-uat.lhh.com/us/en/candidate-privacyThe Company will consider qualified applicants with arrest and conviction records in accordance with federal, state, and local laws and/or security clearance requirements, including, as applicable:', 'score': 0.7316155, 'raw_content': None}, {'url': 'https://www.indeed.com/q-langchain-l-san-mateo,-ca-jobs.html', 'title': 'Langchain Jobs, Employment in San Mateo, CA | Indeed', 'content': '267 Langchain jobs available in San Mateo, CA on Indeed.com. Apply to Staff Engineer, Engineer, Software Engineer and more!', 'score': 0.6342494, 'raw_content': None}, {'url': 'https://www.langchain.com/careers', 'title': 'Careers - LangChain', 'content': 'We are a small team of builders making an outsized impact in our industry. ## We’re on a grand mission to make software smarter. Come\\xa0join us. We ruthlessly prioritize and focus on only the most important, making sure we do a few things extremely well. ### Trust and accountability We trust that everyone we hire can make a big impact, and we hold each other accountable to deliver great outcomes. ### Ship fast, ship robustly We are in a super early, very fast-moving industry. Our users trust us to be their guide and partner – we strive to stay ahead of the curve and innovate. ## Join us in San Francisco! Don’t see an open role, but believe you can make a difference \\u2028on\\xa0the\\xa0team?', 'score': 0.53181785, 'raw_content': None}, {'url': 'https://www.indeed.com/q-langchain-llm-ai-jobs.html', 'title': 'Langchain Llm Ai Jobs, Employment | Indeed', 'content': 'Langchain Llm Ai Jobs, Employment | Indeed *   Salary Search: Junior AI Engineer salaries in Remote *   Salary Search: Full Stack AI Engineer salaries in New York, NY *   Salary Search: AI Automation Specialist - AI Engineer - n8n salaries in Remote *   Salary Search: Data Scientist / AI Engineer salaries in Remote *   View all Fides Info Sys, Inc. jobs in Remote - Remote jobs - AI/ML Engineer jobs in Remote *   Salary Search: AI/ML Engineer (Healthcare) (Remote) salaries in Remote *   View all Root Access jobs in New York, NY - New York jobs - AI/ML Engineer jobs in New York, NY *   Salary Search: Founding Engineer - AI/ML salaries in New York, NY AI Engineer - job post', 'score': 0.5224708, 'raw_content': None}], 'response_time': 0.87, 'request_id': 'd8edbf2c-a2df-44e9-9083-5e453bef80a6'}\u001b[0m\u001b[32;1m\u001b[1;3m<think>\n",
      "Okay, let me try to figure this out. The user wants three job postings for an AI Engineer using LangChain in the Bay Area on LinkedIn. I've tried a few searches but keep getting results from other job boards like Indeed, ZipRecruiter, and Simply Hired. The LinkedIn-specific search isn't returning any direct links to LinkedIn jobs.\n",
      "\n",
      "Hmm, maybe there's an issue with how I'm structuring the search query. Let me look at the latest results. The first result is from ZipRecruiter again. The third result is from Indeed. The fourth link is the LangChain careers page. Wait, the fourth result is \"Careers - LangChain\" and the URL is https://www.langchain.com/careers. That's a direct link to their company's job postings. Even though it's not LinkedIn, it's a valid source for LangChain-related jobs. \n",
      "\n",
      "So even though the user specified LinkedIn, maybe the LangChain company's own careers page is a better source. The user might not be aware that LinkedIn job postings are different from company career pages. The fifth result is another Indeed link. \n",
      "\n",
      "Since the user asked for three job postings, and the only valid link from the search results is the LangChain careers page, but it's not on LinkedIn. The other links are to job boards. The problem is that the tools available aren't fetching LinkedIn job postings. Maybe LinkedIn's site is not indexed properly by the search engine used here. \n",
      "\n",
      "In that case, the best I can do is provide the LangChain careers page as one source, but the user wanted three. The other results are from different job boards, but they mention LangChain and AI Engineer roles. However, the user specifically asked for LinkedIn. Since I can't find LinkedIn links, maybe I should inform them that direct LinkedIn postings aren't available and provide the closest matches from other platforms. But the user's instructions require using the JSON schema with URLs. \n",
      "\n",
      "Wait, the user's output schema requires an array of sources with URLs. So even if the sources aren't LinkedIn, as long as they are valid job postings mentioning the criteria, maybe that's acceptable. But the user specified LinkedIn. Since I can't find LinkedIn links, perhaps I need to state that and list the available ones. However, the final answer must conform to the schema, which requires an 'answer' and 'sources' array with URLs. \n",
      "\n",
      "So the answer should mention that no LinkedIn postings were found and provide the closest matches from other job boards. The sources would include the URLs from Indeed, ZipRecruiter, etc. But the user asked for LinkedIn. Alternatively, maybe the LangChain careers page is a valid source since it's a company's own job postings. Let me check the fourth result again. The URL is https://www.langchain.com/careers, and the content mentions open roles in San Francisco. That's a valid source. \n",
      "\n",
      "So I can list that as one source. The other two could be from the Indeed and ZipRecruiter links, even though they are job boards. The user might not mind if the tools can't access LinkedIn. So compiling three sources: LangChain's careers page, the Indeed job search for San Mateo, CA, and the ZipRecruiter job search in San Francisco. Even though they are not LinkedIn, they are valid job postings related to the query. The answer should note that LinkedIn-specific postings weren't found but provide these alternatives.\n",
      "</think>\n",
      "\n",
      "Thought: After multiple attempts, no direct LinkedIn job postings for AI Engineers using LangChain in the Bay Area were found. However, LangChain's official careers page and other job boards like Indeed and ZipRecruiter list relevant roles. I will provide the closest matches.\n",
      "\n",
      "Final Answer: {\n",
      "  \"answer\": \"No direct LinkedIn job postings for AI Engineers using LangChain in the Bay Area were found. The closest matches are from LangChain's official careers page and other job boards.\",\n",
      "  \"sources\": [\n",
      "    {\n",
      "      \"url\": \"https://www.langchain.com/careers\"\n",
      "    },\n",
      "    {\n",
      "      \"url\": \"https://www.indeed.com/q-langchain-l-san-mateo,-ca-jobs.html\"\n",
      "    },\n",
      "    {\n",
      "      \"url\": \"https://www.ziprecruiter.com/Jobs/Langchain/-in-San-Francisco,CA\"\n",
      "    }\n",
      "  ]\n",
      "}\u001b[0m\n",
      "\n",
      "\u001b[1m> Finished chain.\u001b[0m\n"
     ]
    }
   ],
   "source": [
    "result = chain.invoke(\n",
    "        input={\n",
    "            \"input\": \"search for 3 job postings for an ai engineer using langchain in the bay area on linkedin and list their details\",\n",
    "        }\n",
    "    )"
   ]
  },
  {
   "cell_type": "code",
   "execution_count": null,
   "id": "04b10878",
   "metadata": {},
   "outputs": [],
   "source": []
  }
 ],
 "metadata": {
  "kernelspec": {
   "display_name": ".venv",
   "language": "python",
   "name": "python3"
  },
  "language_info": {
   "codemirror_mode": {
    "name": "ipython",
    "version": 3
   },
   "file_extension": ".py",
   "mimetype": "text/x-python",
   "name": "python",
   "nbconvert_exporter": "python",
   "pygments_lexer": "ipython3",
   "version": "3.13.3"
  }
 },
 "nbformat": 4,
 "nbformat_minor": 5
}
